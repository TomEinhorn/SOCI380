{
 "cells": [
  {
   "cell_type": "markdown",
   "id": "327e679f-4b7c-47aa-b342-59946ff07600",
   "metadata": {
    "editable": true,
    "slideshow": {
     "slide_type": ""
    },
    "tags": []
   },
   "source": [
    "# R Pivot Table Tutorial"
   ]
  },
  {
   "cell_type": "markdown",
   "id": "267ddee3-1253-44f1-aa52-1b3ef8b692fb",
   "metadata": {},
   "source": [
    "This tutorial will guide you through creating a simple pivote table using R. It is designed for stuednts with no previous experience using R and only uses simple R functions."
   ]
  },
  {
   "cell_type": "markdown",
   "id": "d1bc57a0-e1e8-47c8-bed8-3e73ca8b3f18",
   "metadata": {},
   "source": [
    "## Step One: Load Data"
   ]
  },
  {
   "cell_type": "markdown",
   "id": "730175a3-747b-45c0-98f6-ff2363541eef",
   "metadata": {},
   "source": [
    "The data is stored in a comma-delimited format (CSV file) in on a website called GitHub. We will first load the data from that website. To load the data into a dataframe object called \"data\", run the next line:"
   ]
  },
  {
   "cell_type": "code",
   "execution_count": 1,
   "id": "fd6e9b05-2259-4edd-829f-75f5fdbb3682",
   "metadata": {},
   "outputs": [],
   "source": [
    "data <- read.csv(\"https://raw.githubusercontent.com/TomEinhorn/SOCI380/refs/heads/main/SOCI%20380%20FPA%20Dataset.csv\", header = TRUE)"
   ]
  },
  {
   "cell_type": "markdown",
   "id": "b575e95c-e577-439d-acb1-2b088a782076",
   "metadata": {},
   "source": [
    "## Step Two: Look at the Data"
   ]
  },
  {
   "cell_type": "markdown",
   "id": "78a804b4-af7f-4d93-82d0-86a58e8ac69e",
   "metadata": {},
   "source": [
    "Before we do anything, It is good practice to take a look at our data to make sure it was read succesfully. This will also help us get a better understanding of the structure of the data."
   ]
  },
  {
   "cell_type": "markdown",
   "id": "90c56b45-4edc-4b16-865b-96fafc2467a4",
   "metadata": {},
   "source": [
    "First, let's take a look at the first few lines of the data."
   ]
  },
  {
   "cell_type": "code",
   "execution_count": 2,
   "id": "31be8aba-ce8a-41e8-a165-2bb144693d32",
   "metadata": {},
   "outputs": [
    {
     "data": {
      "text/html": [
       "<table class=\"dataframe\">\n",
       "<caption>A data.frame: 6 × 11</caption>\n",
       "<thead>\n",
       "\t<tr><th></th><th scope=col>Q8</th><th scope=col>Q8_9_TEXT</th><th scope=col>Q9_1</th><th scope=col>Q10</th><th scope=col>Q10_6_TEXT</th><th scope=col>Q11</th><th scope=col>Q24</th><th scope=col>Q26</th><th scope=col>Q35</th><th scope=col>Q38</th><th scope=col>Q38_14_TEXT</th></tr>\n",
       "\t<tr><th></th><th scope=col>&lt;chr&gt;</th><th scope=col>&lt;chr&gt;</th><th scope=col>&lt;int&gt;</th><th scope=col>&lt;int&gt;</th><th scope=col>&lt;chr&gt;</th><th scope=col>&lt;int&gt;</th><th scope=col>&lt;int&gt;</th><th scope=col>&lt;int&gt;</th><th scope=col>&lt;int&gt;</th><th scope=col>&lt;chr&gt;</th><th scope=col>&lt;chr&gt;</th></tr>\n",
       "</thead>\n",
       "<tbody>\n",
       "\t<tr><th scope=row>1</th><td>1</td><td></td><td>30</td><td>2</td><td></td><td>1</td><td>3</td><td>3</td><td>1</td><td>5,6,10,11        </td><td>                      </td></tr>\n",
       "\t<tr><th scope=row>2</th><td>2</td><td></td><td>21</td><td>2</td><td></td><td>3</td><td>2</td><td>2</td><td>4</td><td>6,12             </td><td>                      </td></tr>\n",
       "\t<tr><th scope=row>3</th><td>2</td><td></td><td>22</td><td>1</td><td></td><td>1</td><td>1</td><td>2</td><td>4</td><td>2,3,4,6,10       </td><td>                      </td></tr>\n",
       "\t<tr><th scope=row>4</th><td>7</td><td></td><td>20</td><td>2</td><td></td><td>1</td><td>3</td><td>3</td><td>5</td><td>6,10,12          </td><td>                      </td></tr>\n",
       "\t<tr><th scope=row>5</th><td>7</td><td></td><td>21</td><td>2</td><td></td><td>3</td><td>5</td><td>3</td><td>4</td><td>10,12,13,14      </td><td>Part of school project</td></tr>\n",
       "\t<tr><th scope=row>6</th><td>2</td><td></td><td>21</td><td>2</td><td></td><td>3</td><td>1</td><td>2</td><td>2</td><td>2,4,6,7,8,9,10,11</td><td>                      </td></tr>\n",
       "</tbody>\n",
       "</table>\n"
      ],
      "text/latex": [
       "A data.frame: 6 × 11\n",
       "\\begin{tabular}{r|lllllllllll}\n",
       "  & Q8 & Q8\\_9\\_TEXT & Q9\\_1 & Q10 & Q10\\_6\\_TEXT & Q11 & Q24 & Q26 & Q35 & Q38 & Q38\\_14\\_TEXT\\\\\n",
       "  & <chr> & <chr> & <int> & <int> & <chr> & <int> & <int> & <int> & <int> & <chr> & <chr>\\\\\n",
       "\\hline\n",
       "\t1 & 1 &  & 30 & 2 &  & 1 & 3 & 3 & 1 & 5,6,10,11         &                       \\\\\n",
       "\t2 & 2 &  & 21 & 2 &  & 3 & 2 & 2 & 4 & 6,12              &                       \\\\\n",
       "\t3 & 2 &  & 22 & 1 &  & 1 & 1 & 2 & 4 & 2,3,4,6,10        &                       \\\\\n",
       "\t4 & 7 &  & 20 & 2 &  & 1 & 3 & 3 & 5 & 6,10,12           &                       \\\\\n",
       "\t5 & 7 &  & 21 & 2 &  & 3 & 5 & 3 & 4 & 10,12,13,14       & Part of school project\\\\\n",
       "\t6 & 2 &  & 21 & 2 &  & 3 & 1 & 2 & 2 & 2,4,6,7,8,9,10,11 &                       \\\\\n",
       "\\end{tabular}\n"
      ],
      "text/markdown": [
       "\n",
       "A data.frame: 6 × 11\n",
       "\n",
       "| <!--/--> | Q8 &lt;chr&gt; | Q8_9_TEXT &lt;chr&gt; | Q9_1 &lt;int&gt; | Q10 &lt;int&gt; | Q10_6_TEXT &lt;chr&gt; | Q11 &lt;int&gt; | Q24 &lt;int&gt; | Q26 &lt;int&gt; | Q35 &lt;int&gt; | Q38 &lt;chr&gt; | Q38_14_TEXT &lt;chr&gt; |\n",
       "|---|---|---|---|---|---|---|---|---|---|---|---|\n",
       "| 1 | 1 | <!----> | 30 | 2 | <!----> | 1 | 3 | 3 | 1 | 5,6,10,11         | <!----> |\n",
       "| 2 | 2 | <!----> | 21 | 2 | <!----> | 3 | 2 | 2 | 4 | 6,12              | <!----> |\n",
       "| 3 | 2 | <!----> | 22 | 1 | <!----> | 1 | 1 | 2 | 4 | 2,3,4,6,10        | <!----> |\n",
       "| 4 | 7 | <!----> | 20 | 2 | <!----> | 1 | 3 | 3 | 5 | 6,10,12           | <!----> |\n",
       "| 5 | 7 | <!----> | 21 | 2 | <!----> | 3 | 5 | 3 | 4 | 10,12,13,14       | Part of school project |\n",
       "| 6 | 2 | <!----> | 21 | 2 | <!----> | 3 | 1 | 2 | 2 | 2,4,6,7,8,9,10,11 | <!----> |\n",
       "\n"
      ],
      "text/plain": [
       "  Q8 Q8_9_TEXT Q9_1 Q10 Q10_6_TEXT Q11 Q24 Q26 Q35 Q38              \n",
       "1 1            30   2              1   3   3   1   5,6,10,11        \n",
       "2 2            21   2              3   2   2   4   6,12             \n",
       "3 2            22   1              1   1   2   4   2,3,4,6,10       \n",
       "4 7            20   2              1   3   3   5   6,10,12          \n",
       "5 7            21   2              3   5   3   4   10,12,13,14      \n",
       "6 2            21   2              3   1   2   2   2,4,6,7,8,9,10,11\n",
       "  Q38_14_TEXT           \n",
       "1                       \n",
       "2                       \n",
       "3                       \n",
       "4                       \n",
       "5 Part of school project\n",
       "6                       "
      ]
     },
     "metadata": {},
     "output_type": "display_data"
    }
   ],
   "source": [
    "head(data)"
   ]
  },
  {
   "cell_type": "markdown",
   "id": "f58a8e1e-1262-4c12-ae06-3c7af71cdb2a",
   "metadata": {},
   "source": [
    "Next, let's generate a list of all variables in the data:"
   ]
  },
  {
   "cell_type": "code",
   "execution_count": null,
   "id": "33156aff-f928-42df-a0a2-09b7ec1d58b7",
   "metadata": {},
   "outputs": [],
   "source": [
    "variable_names <- colnames(data)\n",
    "print(variable_names)"
   ]
  },
  {
   "cell_type": "markdown",
   "id": "e04c31cd-035c-45bc-84b3-da75cad98128",
   "metadata": {},
   "source": [
    "This is a list of variable names in our data. When you need to refer to variable, use these names above. However, keep in mind:\n",
    "1. No need to use quaotation makes.\n",
    "2. R is case sensative. That means that if a variable name has a capital lette(s), you must also use capital letters when reffering to it."
   ]
  },
  {
   "cell_type": "markdown",
   "id": "5e794d28-51fd-43f5-ae5f-eb9205004d2e",
   "metadata": {},
   "source": [
    "Finally, let's generate a summary of all variables in the data:"
   ]
  },
  {
   "cell_type": "code",
   "execution_count": null,
   "id": "7449f96a-bfd1-43a3-9f00-330b20da27f3",
   "metadata": {},
   "outputs": [],
   "source": [
    "summary(data)"
   ]
  },
  {
   "cell_type": "markdown",
   "id": "1bd0feff-0745-4fcb-99ba-f58965d77fa1",
   "metadata": {},
   "source": [
    "Notice that because of issues with data structure, some variables are given as \"charachter\". We will not be working with these variables in this tutorial."
   ]
  },
  {
   "cell_type": "markdown",
   "id": "18b04751-a9be-47ac-b3d3-a63ee3ab519d",
   "metadata": {},
   "source": [
    "## Step Three: Simple Pivot Talbe"
   ]
  },
  {
   "cell_type": "markdown",
   "id": "619388e5-ffa0-43f6-ac13-eae245b056d8",
   "metadata": {},
   "source": [
    "Use the code below to create a simple pivot table. To"
   ]
  },
  {
   "cell_type": "code",
   "execution_count": null,
   "id": "c00d2df7-8b63-4486-961b-abe69f106d29",
   "metadata": {},
   "outputs": [],
   "source": [
    "my_table <- table(data$Q10, data$Q11)"
   ]
  },
  {
   "cell_type": "markdown",
   "id": "82fca188-6584-43a8-8e84-512e3b6a69d6",
   "metadata": {},
   "source": [
    "To see your table, run the code below"
   ]
  },
  {
   "cell_type": "code",
   "execution_count": null,
   "id": "7d09343e-dc03-414f-bceb-9f0b9b635761",
   "metadata": {},
   "outputs": [],
   "source": [
    "print(my_table)"
   ]
  },
  {
   "cell_type": "markdown",
   "id": "e738dc5a-ea40-4299-8140-70c7e60c7998",
   "metadata": {},
   "source": [
    "## Step Four: Extra Features"
   ]
  },
  {
   "cell_type": "markdown",
   "id": "d8d4b28a-1b85-45ff-aa0f-1a3c336387bc",
   "metadata": {},
   "source": [
    "First, let's convert the table into percentages. The code below convets the table into a percentage table. Each value in each cell is divided by the total number of observations in the table. For to row percentages, use margin = 1. For column percentages, use margin = 2. The table uses 2 decimal palces. You can change that by changing the value of the \"digits\" parameter."
   ]
  },
  {
   "cell_type": "code",
   "execution_count": null,
   "id": "c6d23142-a3d3-4364-b3c5-0c24741dc053",
   "metadata": {},
   "outputs": [],
   "source": [
    "table_with_percent <- round(prop.table(my_table, margin = NULL)*100, digits = 2)\n",
    "print(table_with_percent)"
   ]
  },
  {
   "cell_type": "markdown",
   "id": "7beac8dd-8617-48c3-ad1b-a64a02ea4592",
   "metadata": {},
   "source": [
    "Next, we'll add row and column totals. The code below is configured for both row and column totals. For column totals only, use margin = 1. For row totals only, use margin = 2."
   ]
  },
  {
   "cell_type": "code",
   "execution_count": null,
   "id": "91585501-6626-48d7-ad8f-da4e0b2946f2",
   "metadata": {},
   "outputs": [],
   "source": [
    "table_with_totals <- addmargins(table_with_percent, margin = c(1,2))\n",
    "print(table_with_totals)"
   ]
  },
  {
   "cell_type": "markdown",
   "id": "21a9f2ac-b0da-4d5e-8d67-c1e042b54da0",
   "metadata": {},
   "source": [
    "# Step Five: Save Your Work"
   ]
  },
  {
   "cell_type": "markdown",
   "id": "c73f7c4e-6fc3-436a-8d0b-43146352bdd4",
   "metadata": {},
   "source": [
    "Run the code below to save your work."
   ]
  },
  {
   "cell_type": "code",
   "execution_count": null,
   "id": "e5b56544-0d42-4c32-afe3-ecac0edd6827",
   "metadata": {},
   "outputs": [],
   "source": [
    "write.csv(as.data.frame.matrix(table_with_totals), \"simple pivot table.csv\")"
   ]
  },
  {
   "cell_type": "markdown",
   "id": "85559fd1-1382-44b7-a3b0-21e37c6afff3",
   "metadata": {},
   "source": [
    "Fine your table in the side panel in a file named \"simple pivot table.csv\". Left click the file and click \"download.\""
   ]
  }
 ],
 "metadata": {
  "kernelspec": {
   "display_name": "R",
   "language": "R",
   "name": "ir"
  },
  "language_info": {
   "codemirror_mode": "r",
   "file_extension": ".r",
   "mimetype": "text/x-r-source",
   "name": "R",
   "pygments_lexer": "r",
   "version": "4.3.3"
  }
 },
 "nbformat": 4,
 "nbformat_minor": 5
}
